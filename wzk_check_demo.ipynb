{
 "cells": [
  {
   "cell_type": "code",
   "id": "initial_id",
   "metadata": {
    "collapsed": true,
    "ExecuteTime": {
     "end_time": "2024-11-10T09:26:37.354163Z",
     "start_time": "2024-11-10T09:26:37.333600Z"
    }
   },
   "source": [
    "from magilearn.metrics import accuracy_score\n",
    "\n",
    "y_true = [1, 0, 1, 1, 0]  # 真实标签\n",
    "y_pred = [1, 0, 1, 0, 0]  # 预测标签\n",
    "\n",
    "accuracy = accuracy_score(y_true, y_pred)\n",
    "print(\"准确率:\", accuracy)"
   ],
   "outputs": [
    {
     "name": "stdout",
     "output_type": "stream",
     "text": [
      "准确率: 0.8\n"
     ]
    }
   ],
   "execution_count": 2
  },
  {
   "metadata": {
    "ExecuteTime": {
     "end_time": "2024-11-10T09:26:37.847296Z",
     "start_time": "2024-11-10T09:26:37.831293Z"
    }
   },
   "cell_type": "code",
   "source": [
    "from magilearn.metrics import confusion_matrix\n",
    "\n",
    "y_true = [1, 0, 1, 1, 0]\n",
    "y_pred = [1, 0, 1, 0, 0]\n",
    "\n",
    "matrix = confusion_matrix(y_true, y_pred)\n",
    "print(\"混淆矩阵:\\n\", matrix)"
   ],
   "id": "5f107f6d34c15295",
   "outputs": [
    {
     "name": "stdout",
     "output_type": "stream",
     "text": [
      "混淆矩阵:\n",
      " [[2 0]\n",
      " [1 2]]\n"
     ]
    }
   ],
   "execution_count": 3
  },
  {
   "metadata": {
    "ExecuteTime": {
     "end_time": "2024-11-10T09:26:38.463889Z",
     "start_time": "2024-11-10T09:26:38.449372Z"
    }
   },
   "cell_type": "code",
   "source": [
    "from magilearn.metrics import precision_score, recall_score\n",
    "\n",
    "y_true = [1, 0, 1, 1, 0]\n",
    "y_pred = [1, 0, 1, 0, 0]\n",
    "\n",
    "precision = precision_score(y_true, y_pred)\n",
    "recall = recall_score(y_true, y_pred)\n",
    "print(\"精确率:\", precision)\n",
    "print(\"召回率:\", recall)"
   ],
   "id": "780bde42e382e64",
   "outputs": [
    {
     "name": "stdout",
     "output_type": "stream",
     "text": [
      "精确率: 1.0\n",
      "召回率: 0.6666666666666666\n"
     ]
    }
   ],
   "execution_count": 4
  },
  {
   "metadata": {
    "ExecuteTime": {
     "end_time": "2024-11-10T09:26:39.048598Z",
     "start_time": "2024-11-10T09:26:39.028565Z"
    }
   },
   "cell_type": "code",
   "source": [
    "from magilearn.metrics import roc_auc_score\n",
    "\n",
    "y_true = [1, 0, 1, 1, 0]\n",
    "y_scores = [0.8, 0.4, 0.9, 0.6, 0.3]  # 预测分数或概率\n",
    "\n",
    "auc = roc_auc_score(y_true, y_scores)\n",
    "print(\"ROC AUC:\", auc)"
   ],
   "id": "598c93313fc23cc5",
   "outputs": [
    {
     "name": "stdout",
     "output_type": "stream",
     "text": [
      "ROC AUC: 1.0\n"
     ]
    }
   ],
   "execution_count": 5
  },
  {
   "metadata": {
    "ExecuteTime": {
     "end_time": "2024-11-10T09:26:40.189341Z",
     "start_time": "2024-11-10T09:26:40.178341Z"
    }
   },
   "cell_type": "code",
   "source": [
    "from magilearn.preprocessing import StandardScaler\n",
    "import numpy as np\n",
    "\n",
    "X = np.array([[1, 2], [2, 3], [3, 4]])  # 示例数据\n",
    "\n",
    "scaler = StandardScaler()\n",
    "X_scaled = scaler.fit_transform(X)\n",
    "print(\"标准化数据:\\n\", X_scaled)"
   ],
   "id": "8403f9f6b33ac311",
   "outputs": [
    {
     "name": "stdout",
     "output_type": "stream",
     "text": [
      "标准化数据:\n",
      " [[-1.22474487 -1.22474487]\n",
      " [ 0.          0.        ]\n",
      " [ 1.22474487  1.22474487]]\n"
     ]
    }
   ],
   "execution_count": 6
  },
  {
   "metadata": {
    "ExecuteTime": {
     "end_time": "2024-11-10T09:26:40.757231Z",
     "start_time": "2024-11-10T09:26:40.741838Z"
    }
   },
   "cell_type": "code",
   "source": [
    "from magilearn.preprocessing import MinMaxScaler\n",
    "import numpy as np\n",
    "\n",
    "X = np.array([[1, 2], [2, 3], [3, 4]])  # 示例数据\n",
    "\n",
    "scaler = MinMaxScaler()\n",
    "X_normalized = scaler.fit_transform(X)\n",
    "print(\"归一化数据:\\n\", X_normalized)"
   ],
   "id": "c7ee458ee230154a",
   "outputs": [
    {
     "name": "stdout",
     "output_type": "stream",
     "text": [
      "归一化数据:\n",
      " [[0.  0. ]\n",
      " [0.5 0.5]\n",
      " [1.  1. ]]\n"
     ]
    }
   ],
   "execution_count": 7
  },
  {
   "metadata": {
    "ExecuteTime": {
     "end_time": "2024-11-10T09:26:41.281851Z",
     "start_time": "2024-11-10T09:26:41.272850Z"
    }
   },
   "cell_type": "code",
   "source": [
    "from magilearn.preprocessing import OneHotEncoder\n",
    "import numpy as np\n",
    "\n",
    "X = np.array([[\"apple\"], [\"banana\"], [\"apple\"], [\"orange\"]])  # 示例数据\n",
    "\n",
    "encoder = OneHotEncoder()\n",
    "X_encoded = encoder.fit_transform(X)\n",
    "print(\"One-Hot 编码:\\n\", X_encoded)"
   ],
   "id": "dfc348f2975e0819",
   "outputs": [
    {
     "name": "stdout",
     "output_type": "stream",
     "text": [
      "One-Hot 编码:\n",
      " [[1. 0. 0.]\n",
      " [0. 1. 0.]\n",
      " [1. 0. 0.]\n",
      " [0. 0. 1.]]\n"
     ]
    }
   ],
   "execution_count": 8
  },
  {
   "metadata": {
    "ExecuteTime": {
     "end_time": "2024-11-10T09:26:41.534033Z",
     "start_time": "2024-11-10T09:26:41.515032Z"
    }
   },
   "cell_type": "code",
   "source": [
    "from magilearn.preprocessing import LabelEncoder\n",
    "import numpy as np\n",
    "\n",
    "y = np.array([\"cat\", \"dog\", \"fish\", \"monkey\", \"tiger\"])  # 示例标签\n",
    "\n",
    "encoder = LabelEncoder()\n",
    "y_encoded = encoder.fit_transform(y)\n",
    "print(\"标签编码:\", y_encoded)"
   ],
   "id": "de203f07e3764108",
   "outputs": [
    {
     "name": "stdout",
     "output_type": "stream",
     "text": [
      "标签编码: [0 1 2 3 4]\n"
     ]
    }
   ],
   "execution_count": 9
  },
  {
   "metadata": {},
   "cell_type": "code",
   "outputs": [],
   "execution_count": null,
   "source": "",
   "id": "a59304de3c0d0bee"
  }
 ],
 "metadata": {
  "kernelspec": {
   "display_name": "pytorch",
   "language": "python",
   "name": "pytorch"
  },
  "language_info": {
   "codemirror_mode": {
    "name": "ipython",
    "version": 2
   },
   "file_extension": ".py",
   "mimetype": "text/x-python",
   "name": "python",
   "nbconvert_exporter": "python",
   "pygments_lexer": "ipython2",
   "version": "2.7.6"
  }
 },
 "nbformat": 4,
 "nbformat_minor": 5
}
